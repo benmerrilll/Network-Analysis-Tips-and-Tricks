{
 "cells": [
  {
   "cell_type": "markdown",
   "id": "747384b7-22bf-4d1a-b274-21ea28c37cee",
   "metadata": {
    "tags": []
   },
   "source": [
    "# 652 Week 2 Tips and Tricks #"
   ]
  },
  {
   "cell_type": "markdown",
   "id": "9d214aed-6d7a-4f95-8615-a888b056dcaf",
   "metadata": {},
   "source": [
    "Jamie White | Ben Merrill \n",
    "\n",
   ]
  },
  {
   "cell_type": "markdown",
   "id": "a221a27b-9fc8-44ab-a52a-3980972b64d2",
   "metadata": {},
   "source": [
    "## Before starting your assignments... ##"
   ]
  },
  {
   "cell_type": "markdown",
   "id": "ca02b946-f2f3-4a3d-a074-19369697b17f",
   "metadata": {},
   "source": [
    "... make a clean copy of your notebook in case you have to start over.\n",
    "\n",
    "In Coursera:\n",
    "\n",
    "`File > Make a copy...`"
   ]
  },
  {
   "cell_type": "markdown",
   "id": "4aca1d32-6945-441a-a198-bd39aaef024d",
   "metadata": {},
   "source": [
    "## Don't overload the autograder ###"
   ]
  },
  {
   "cell_type": "markdown",
   "id": "580a86da-edab-4c09-ab41-0b8c13c2cd63",
   "metadata": {},
   "source": [
    "Some cells take quite a while to compute. Work on one problem at a time, comment out other cells until you're read to submit.  Make sure your notebook runs, however.\n",
    "\n",
    "```\n",
    "Kernel -> Restart & Run All\n",
    "\n",
    "```"
   ]
  },
  {
   "cell_type": "markdown",
   "id": "33370c52-834b-4118-bc11-735a6cf5029b",
   "metadata": {},
   "source": [
    "## Load some libraries to get started... ##"
   ]
  },
  {
   "cell_type": "code",
   "execution_count": 1,
   "id": "24d8915d-6fa5-4a2b-9cef-c964bbf7d8c9",
   "metadata": {},
   "outputs": [],
   "source": [
    "import networkx as nx\n",
    "import matplotlib.pyplot as plt\n",
    "import json\n",
    "%matplotlib inline"
   ]
  },
  {
   "cell_type": "markdown",
   "id": "e98d4dc5-4e06-443d-8de1-74195573d083",
   "metadata": {},
   "source": [
    "### Make a graph to use for examples (from 652 W1 tutorial) ###"
   ]
  },
  {
   "cell_type": "code",
   "execution_count": 2,
   "id": "86e2898e-eb5d-420e-8419-eaa2183277e0",
   "metadata": {},
   "outputs": [],
   "source": [
    "G = nx.Graph()\n",
    "G.add_node(1) # add a single node\n",
    "G.add_nodes_from([2, 3, 4, 5, 6, 7, 8, 9, 0]) # add a list of nodes"
   ]
  },
  {
   "cell_type": "code",
   "execution_count": 3,
   "id": "0a0de635-561d-47f8-9997-bc7c002161b6",
   "metadata": {
    "tags": []
   },
   "outputs": [],
   "source": [
    "G.add_edge(1, 2) # add a single edge\n",
    "G.add_edges_from([(1, 2), (1, 3), (2, 4), (2, 5), (3,5), \n",
    "                  (3, 7), (4,8), (5,9),(5,0),(6,0),(7,8),(8,9)]) \n",
    "# G.remove_edge(1, 2)"
   ]
  },
  {
   "cell_type": "markdown",
   "id": "cb4b38e2-0271-4f16-8026-87d927a42f7a",
   "metadata": {},
   "source": [
    "___\n",
    "## Save computationally intensive results ##\n",
    "\n",
    "**Reminder from W1 Tips & Tricks**"
   ]
  },
  {
   "cell_type": "markdown",
   "id": "bd141e7c-b5ec-497b-ba4c-fcfe4868e3fb",
   "metadata": {},
   "source": [
    "Some computations, such as PageRank, can take quite a while to run. Once you run them once, you can save the files to make your notebook run more quickly."
   ]
  },
  {
   "cell_type": "markdown",
   "id": "532c3093-449e-4974-9c3f-c0af3c55ee80",
   "metadata": {},
   "source": [
    "`json` files are a good choice for saving dictionaries.\n",
    "\n",
    "Note that this is not a requirement, but just a suggestion to make your notebook run faster. "
   ]
  },
  {
   "cell_type": "code",
   "execution_count": 60,
   "id": "0e2175b8-a6e8-4e1d-add6-74045716112f",
   "metadata": {},
   "outputs": [],
   "source": [
    "# clear out file from previous demonstration\n",
    "!rm my_pagerank.json\n",
    "saved_pr = None"
   ]
  },
  {
   "cell_type": "code",
   "execution_count": 61,
   "id": "88619f6e-d5e0-47d0-8dab-b9df1af5b189",
   "metadata": {},
   "outputs": [
    {
     "name": "stdout",
     "output_type": "stream",
     "text": [
      "can't find file:  my_pagerank.json\n",
      "\n",
      "recalculating pagerank\n",
      "\n"
     ]
    },
    {
     "data": {
      "text/plain": [
       "{1: 0.08238301608879246,\n",
       " 2: 0.11891246549898707,\n",
       " 3: 0.11891246549898707,\n",
       " 4: 0.08287983163527103,\n",
       " 5: 0.15846945385063035,\n",
       " 6: 0.05586956767829658,\n",
       " 7: 0.08287983163527103,\n",
       " 8: 0.12066530400065731,\n",
       " 9: 0.08286340613976471,\n",
       " 0: 0.09616465797334213}"
      ]
     },
     "execution_count": 61,
     "metadata": {},
     "output_type": "execute_result"
    }
   ],
   "source": [
    "pr_file = 'my_pagerank.json'\n",
    "\n",
    "# look for a pagerank file\n",
    "try:\n",
    "    with open(pr_file, 'r') as f:\n",
    "        load_pr  = json.load(f)\n",
    "        # for some reason keys come back as strings\n",
    "        # make sure to convert to integers\n",
    "        saved_pr = {int(n):pr for n,pr in load_pr.items()}\n",
    "        \n",
    "# if there was no file, recalulate the pagerank        \n",
    "except:\n",
    "    \n",
    "    print(\"can't find file: \",pr_file)\n",
    "    print()\n",
    "    print(\"recalculating pagerank\")\n",
    "    print()\n",
    "    my_pr = nx.pagerank(G)\n",
    "    \n",
    "    with open(pr_file, 'w') as f:\n",
    "        json.dump(my_pr, f)\n",
    "\n",
    "# saved_pr = my_pr # don't set this yet, demonstration below.\n",
    "my_pr"
   ]
  },
  {
   "cell_type": "code",
   "execution_count": 62,
   "id": "51886018-98b9-4790-ae2d-76b20c06a0e5",
   "metadata": {},
   "outputs": [
    {
     "name": "stdout",
     "output_type": "stream",
     "text": [
      "None\n"
     ]
    }
   ],
   "source": [
    "# is there a saved pagerank file?\n",
    "print(saved_pr)"
   ]
  },
  {
   "cell_type": "code",
   "execution_count": 63,
   "id": "6abcdaa3-6da5-489a-b2a5-8e4500dbaff6",
   "metadata": {},
   "outputs": [
    {
     "data": {
      "text/plain": [
       "{1: 0.08238301608879246,\n",
       " 2: 0.11891246549898707,\n",
       " 3: 0.11891246549898707,\n",
       " 4: 0.08287983163527103,\n",
       " 5: 0.15846945385063035,\n",
       " 6: 0.05586956767829658,\n",
       " 7: 0.08287983163527103,\n",
       " 8: 0.12066530400065731,\n",
       " 9: 0.08286340613976471,\n",
       " 0: 0.09616465797334213}"
      ]
     },
     "execution_count": 63,
     "metadata": {},
     "output_type": "execute_result"
    }
   ],
   "source": [
    "my_pr = None # reset from above\n",
    "\n",
    "# try to open an existing pagerank file\n",
    "try:\n",
    "    with open(pr_file, 'r') as f:\n",
    "        load_pr  = json.load(f)\n",
    "        # for some reason keys come back as strings\n",
    "        # make sure to convert to integers\n",
    "        saved_pr = {int(n):pr for n,pr in load_pr.items()}\n",
    "\n",
    "# if it is not there, do something (print an error)\n",
    "except:\n",
    "    print(\"can't find file: \", pr_file)\n",
    "    \n",
    "saved_pr"
   ]
  },
  {
   "cell_type": "code",
   "execution_count": 64,
   "id": "4098ee14-9884-41d6-9b4c-73f25e80a3e5",
   "metadata": {},
   "outputs": [
    {
     "data": {
      "text/plain": [
       "dict"
      ]
     },
     "execution_count": 64,
     "metadata": {},
     "output_type": "execute_result"
    }
   ],
   "source": [
    "type(saved_pr)"
   ]
  },
  {
   "cell_type": "code",
   "execution_count": 65,
   "id": "92ab29ab-5121-4aae-90e0-cc96233e3a27",
   "metadata": {},
   "outputs": [
    {
     "name": "stdout",
     "output_type": "stream",
     "text": [
      "None\n"
     ]
    }
   ],
   "source": [
    "# is my_pr still there\n",
    "print(my_pr)"
   ]
  },
  {
   "cell_type": "code",
   "execution_count": 66,
   "id": "e546f028-5007-4644-bb46-5105411bd556",
   "metadata": {},
   "outputs": [],
   "source": [
    "my_pr = saved_pr"
   ]
  },
  {
   "cell_type": "code",
   "execution_count": 67,
   "id": "5cc6d15d-011b-4819-adae-dca70aefe644",
   "metadata": {},
   "outputs": [
    {
     "data": {
      "text/plain": [
       "{1: 0.08238301608879246,\n",
       " 2: 0.11891246549898707,\n",
       " 3: 0.11891246549898707,\n",
       " 4: 0.08287983163527103,\n",
       " 5: 0.15846945385063035,\n",
       " 6: 0.05586956767829658,\n",
       " 7: 0.08287983163527103,\n",
       " 8: 0.12066530400065731,\n",
       " 9: 0.08286340613976471,\n",
       " 0: 0.09616465797334213}"
      ]
     },
     "execution_count": 67,
     "metadata": {},
     "output_type": "execute_result"
    }
   ],
   "source": [
    "my_pr"
   ]
  },
  {
   "cell_type": "code",
   "execution_count": 59,
   "id": "4524b359-3794-436b-87b3-36015e555c44",
   "metadata": {},
   "outputs": [
    {
     "data": {
      "text/plain": [
       "dict"
      ]
     },
     "execution_count": 59,
     "metadata": {},
     "output_type": "execute_result"
    }
   ],
   "source": [
    "type(my_pr)"
   ]
  },
  {
   "cell_type": "markdown",
   "id": "bc645577-29db-43be-aa42-c3970d6fe9ea",
   "metadata": {
    "tags": []
   },
   "source": [
    "___\n",
    "## Use NetworKit to calculate PageRank ##\n",
    "\n",
    "[NetworKit](https://networkit.github.io) is a python wrapper around algorithms written in C++, so it is **a lot** faster than NetworkX.\n",
    "\n",
    "```\n",
    "! conda install -y -c conda-forge networkit # pip does not install correctly\n",
    "```"
   ]
  },
  {
   "cell_type": "markdown",
   "id": "3036c839-2a55-41df-b7ae-90902e6a0767",
   "metadata": {},
   "source": [
    "**Disclaimer:** there are small differences in the PageRank values due to differences in float precision. I have tested networkit PageRanks with Questions 6, 9 and 12 of Assignment 2, and as far as I can tell, they should be acceptable to the autograder.  "
   ]
  },
  {
   "cell_type": "markdown",
   "id": "7a03e8b4-00f0-480a-96ac-d19b65099c60",
   "metadata": {
    "tags": []
   },
   "source": [
    "### NetworKit FAQ ###\n",
    "\n",
    "**Q:** Why do we use NetworkX instead of NetworKit if the latter is faster?\n",
    "\n",
    "**A1:** NetworkX is a more established library with more functions/algorithms available, but it's really good to be aware of more efficient options such as NetworKit for certain tasks.\n",
    "\n",
    "**A2:** The documentation for NetworkX is easier to follow and more extensive. There are a lot of answered StackOverflow questions, and a lot of outside resources that use NetworkX."
   ]
  },
  {
   "cell_type": "markdown",
   "id": "b63e8aa0-4eff-4560-8150-2adb86e7fc98",
   "metadata": {},
   "source": [
    "___"
   ]
  },
  {
   "cell_type": "code",
   "execution_count": 13,
   "id": "a14370c3-1909-4e39-82e6-bfa250e96c70",
   "metadata": {},
   "outputs": [
    {
     "data": {
      "text/html": [
       "\n",
       "\t\t\t<script type=\"text/javascript\">\n",
       "\t\t\t<!--\n",
       "\t\t\t\t\n",
       "\t\t\t{\n",
       "\t\t\t\tvar element = document.getElementById('NetworKit_script');\n",
       "\t\t\t\tif (element) {\n",
       "\t\t\t\t\telement.parentNode.removeChild(element);\n",
       "\t\t\t\t}\n",
       "\t\t\t\telement = document.createElement('script');\n",
       "\t\t\t\telement.type = 'text/javascript';\n",
       "\t\t\t\telement.innerHTML = 'function NetworKit_pageEmbed(id) { var i, j; var elements; elements = document.getElementById(id).getElementsByClassName(\"Plot\"); for (i=0; i<elements.length; i++) { elements[i].id = id + \"_Plot_\" + i; var data = elements[i].getAttribute(\"data-image\").split(\"|\"); elements[i].removeAttribute(\"data-image\"); var content = \"<div class=\\\\\"Image\\\\\" id=\\\\\"\" + elements[i].id + \"_Image\\\\\" />\"; elements[i].innerHTML = content; elements[i].setAttribute(\"data-image-index\", 0); elements[i].setAttribute(\"data-image-length\", data.length); for (j=0; j<data.length; j++) { elements[i].setAttribute(\"data-image-\" + j, data[j]); } NetworKit_plotUpdate(elements[i]); elements[i].onclick = function (e) { NetworKit_overlayShow((e.target) ? e.target : e.srcElement); } } elements = document.getElementById(id).getElementsByClassName(\"HeatCell\"); for (i=0; i<elements.length; i++) { var data = parseFloat(elements[i].getAttribute(\"data-heat\")); var color = \"#00FF00\"; if (data <= 1 && data > 0) { color = \"hsla(0, 100%, 75%, \" + (data) + \")\"; } else if (data <= 0 && data >= -1) { color = \"hsla(240, 100%, 75%, \" + (-data) + \")\"; } elements[i].style.backgroundColor = color; } elements = document.getElementById(id).getElementsByClassName(\"Details\"); for (i=0; i<elements.length; i++) { elements[i].setAttribute(\"data-title\", \"-\"); NetworKit_toggleDetails(elements[i]); elements[i].onclick = function (e) { NetworKit_toggleDetails((e.target) ? e.target : e.srcElement); } } elements = document.getElementById(id).getElementsByClassName(\"MathValue\"); for (i=elements.length-1; i>=0; i--) { value = elements[i].innerHTML.trim(); if (value === \"nan\") { elements[i].parentNode.innerHTML = \"\" } } elements = document.getElementById(id).getElementsByClassName(\"SubCategory\"); for (i=elements.length-1; i>=0; i--) { value = elements[i].innerHTML.trim(); if (value === \"\") { elements[i].parentNode.removeChild(elements[i]) } } elements = document.getElementById(id).getElementsByClassName(\"Category\"); for (i=elements.length-1; i>=0; i--) { value = elements[i].innerHTML.trim(); if (value === \"\") { elements[i].parentNode.removeChild(elements[i]) } } var isFirefox = false; try { isFirefox = typeof InstallTrigger !== \"undefined\"; } catch (e) {} if (!isFirefox) { alert(\"Currently the function\\'s output is only fully supported by Firefox.\"); } } function NetworKit_plotUpdate(source) { var index = source.getAttribute(\"data-image-index\"); var data = source.getAttribute(\"data-image-\" + index); var image = document.getElementById(source.id + \"_Image\"); image.style.backgroundImage = \"url(\" + data + \")\"; } function NetworKit_showElement(id, show) { var element = document.getElementById(id); element.style.display = (show) ? \"block\" : \"none\"; } function NetworKit_overlayShow(source) { NetworKit_overlayUpdate(source); NetworKit_showElement(\"NetworKit_Overlay\", true); } function NetworKit_overlayUpdate(source) { document.getElementById(\"NetworKit_Overlay_Title\").innerHTML = source.title; var index = source.getAttribute(\"data-image-index\"); var data = source.getAttribute(\"data-image-\" + index); var image = document.getElementById(\"NetworKit_Overlay_Image\"); image.setAttribute(\"data-id\", source.id); image.style.backgroundImage = \"url(\" + data + \")\"; var link = document.getElementById(\"NetworKit_Overlay_Toolbar_Bottom_Save\"); link.href = data; link.download = source.title + \".svg\"; } function NetworKit_overlayImageShift(delta) { var image = document.getElementById(\"NetworKit_Overlay_Image\"); var source = document.getElementById(image.getAttribute(\"data-id\")); var index = parseInt(source.getAttribute(\"data-image-index\")); var length = parseInt(source.getAttribute(\"data-image-length\")); var index = (index+delta) % length; if (index < 0) { index = length + index; } source.setAttribute(\"data-image-index\", index); NetworKit_overlayUpdate(source); } function NetworKit_toggleDetails(source) { var childs = source.children; var show = false; if (source.getAttribute(\"data-title\") == \"-\") { source.setAttribute(\"data-title\", \"+\"); show = false; } else { source.setAttribute(\"data-title\", \"-\"); show = true; } for (i=0; i<childs.length; i++) { if (show) { childs[i].style.display = \"block\"; } else { childs[i].style.display = \"none\"; } } }';\n",
       "\t\t\t\telement.setAttribute('id', 'NetworKit_script');\n",
       "\t\t\t\tdocument.head.appendChild(element);\n",
       "\t\t\t}\n",
       "\t\t\n",
       "\t\t\t\t\n",
       "\t\t\t{\n",
       "\t\t\t\tvar element = document.getElementById('NetworKit_style');\n",
       "\t\t\t\tif (element) {\n",
       "\t\t\t\t\telement.parentNode.removeChild(element);\n",
       "\t\t\t\t}\n",
       "\t\t\t\telement = document.createElement('style');\n",
       "\t\t\t\telement.type = 'text/css';\n",
       "\t\t\t\telement.innerHTML = '.NetworKit_Page { font-family: Arial, Helvetica, sans-serif; font-size: 14px; } .NetworKit_Page .Value:before { font-family: Arial, Helvetica, sans-serif; font-size: 1.05em; content: attr(data-title) \":\"; margin-left: -2.5em; padding-right: 0.5em; } .NetworKit_Page .Details .Value:before { display: block; } .NetworKit_Page .Value { font-family: monospace; white-space: pre; padding-left: 2.5em; white-space: -moz-pre-wrap !important; white-space: -pre-wrap; white-space: -o-pre-wrap; white-space: pre-wrap; word-wrap: break-word; tab-size: 4; -moz-tab-size: 4; } .NetworKit_Page .Category { clear: both; padding-left: 1em; margin-bottom: 1.5em; } .NetworKit_Page .Category:before { content: attr(data-title); font-size: 1.75em; display: block; margin-left: -0.8em; margin-bottom: 0.5em; } .NetworKit_Page .SubCategory { margin-bottom: 1.5em; padding-left: 1em; } .NetworKit_Page .SubCategory:before { font-size: 1.6em; display: block; margin-left: -0.8em; margin-bottom: 0.5em; } .NetworKit_Page .SubCategory[data-title]:before { content: attr(data-title); } .NetworKit_Page .Block { display: block; } .NetworKit_Page .Block:after { content: \".\"; visibility: hidden; display: block; height: 0; clear: both; } .NetworKit_Page .Block .Thumbnail_Overview, .NetworKit_Page .Block .Thumbnail_ScatterPlot { width: 260px; float: left; } .NetworKit_Page .Block .Thumbnail_Overview img, .NetworKit_Page .Block .Thumbnail_ScatterPlot img { width: 260px; } .NetworKit_Page .Block .Thumbnail_Overview:before, .NetworKit_Page .Block .Thumbnail_ScatterPlot:before { display: block; text-align: center; font-weight: bold; } .NetworKit_Page .Block .Thumbnail_Overview:before { content: attr(data-title); } .NetworKit_Page .HeatCell { font-family: \"Courier New\", Courier, monospace; cursor: pointer; } .NetworKit_Page .HeatCell, .NetworKit_Page .HeatCellName { display: inline; padding: 0.1em; margin-right: 2px; background-color: #FFFFFF } .NetworKit_Page .HeatCellName { margin-left: 0.25em; } .NetworKit_Page .HeatCell:before { content: attr(data-heat); display: inline-block; color: #000000; width: 4em; text-align: center; } .NetworKit_Page .Measure { clear: both; } .NetworKit_Page .Measure .Details { cursor: pointer; } .NetworKit_Page .Measure .Details:before { content: \"[\" attr(data-title) \"]\"; display: block; } .NetworKit_Page .Measure .Details .Value { border-left: 1px dotted black; margin-left: 0.4em; padding-left: 3.5em; pointer-events: none; } .NetworKit_Page .Measure .Details .Spacer:before { content: \".\"; opacity: 0.0; pointer-events: none; } .NetworKit_Page .Measure .Plot { width: 440px; height: 440px; cursor: pointer; float: left; margin-left: -0.9em; margin-right: 20px; } .NetworKit_Page .Measure .Plot .Image { background-repeat: no-repeat; background-position: center center; background-size: contain; height: 100%; pointer-events: none; } .NetworKit_Page .Measure .Stat { width: 500px; float: left; } .NetworKit_Page .Measure .Stat .Group { padding-left: 1.25em; margin-bottom: 0.75em; } .NetworKit_Page .Measure .Stat .Group .Title { font-size: 1.1em; display: block; margin-bottom: 0.3em; margin-left: -0.75em; border-right-style: dotted; border-right-width: 1px; border-bottom-style: dotted; border-bottom-width: 1px; background-color: #D0D0D0; padding-left: 0.2em; } .NetworKit_Page .Measure .Stat .Group .List { -webkit-column-count: 3; -moz-column-count: 3; column-count: 3; } .NetworKit_Page .Measure .Stat .Group .List .Entry { position: relative; line-height: 1.75em; } .NetworKit_Page .Measure .Stat .Group .List .Entry[data-tooltip]:before { position: absolute; left: 0; top: -40px; background-color: #808080; color: #ffffff; height: 30px; line-height: 30px; border-radius: 5px; padding: 0 15px; content: attr(data-tooltip); white-space: nowrap; display: none; } .NetworKit_Page .Measure .Stat .Group .List .Entry[data-tooltip]:after { position: absolute; left: 15px; top: -10px; border-top: 7px solid #808080; border-left: 7px solid transparent; border-right: 7px solid transparent; content: \"\"; display: none; } .NetworKit_Page .Measure .Stat .Group .List .Entry[data-tooltip]:hover:after, .NetworKit_Page .Measure .Stat .Group .List .Entry[data-tooltip]:hover:before { display: block; } .NetworKit_Page .Measure .Stat .Group .List .Entry .MathValue { font-family: \"Courier New\", Courier, monospace; } .NetworKit_Page .Measure:after { content: \".\"; visibility: hidden; display: block; height: 0; clear: both; } .NetworKit_Page .PartitionPie { clear: both; } .NetworKit_Page .PartitionPie img { width: 600px; } #NetworKit_Overlay { left: 0px; top: 0px; display: none; position: absolute; width: 100%; height: 100%; background-color: rgba(0,0,0,0.6); z-index: 1000; } #NetworKit_Overlay_Title { position: absolute; color: white; transform: rotate(-90deg); width: 32em; height: 32em; padding-right: 0.5em; padding-top: 0.5em; text-align: right; font-size: 40px; } #NetworKit_Overlay .button { background: white; cursor: pointer; } #NetworKit_Overlay .button:before { size: 13px; display: inline-block; text-align: center; margin-top: 0.5em; margin-bottom: 0.5em; width: 1.5em; height: 1.5em; } #NetworKit_Overlay .icon-close:before { content: \"X\"; } #NetworKit_Overlay .icon-previous:before { content: \"P\"; } #NetworKit_Overlay .icon-next:before { content: \"N\"; } #NetworKit_Overlay .icon-save:before { content: \"S\"; } #NetworKit_Overlay_Toolbar_Top, #NetworKit_Overlay_Toolbar_Bottom { position: absolute; width: 40px; right: 13px; text-align: right; z-index: 1100; } #NetworKit_Overlay_Toolbar_Top { top: 0.5em; } #NetworKit_Overlay_Toolbar_Bottom { Bottom: 0.5em; } #NetworKit_Overlay_ImageContainer { position: absolute; top: 5%; left: 5%; height: 90%; width: 90%; background-repeat: no-repeat; background-position: center center; background-size: contain; } #NetworKit_Overlay_Image { height: 100%; width: 100%; background-repeat: no-repeat; background-position: center center; background-size: contain; }';\n",
       "\t\t\t\telement.setAttribute('id', 'NetworKit_style');\n",
       "\t\t\t\tdocument.head.appendChild(element);\n",
       "\t\t\t}\n",
       "\t\t\n",
       "\t\t\t\t\n",
       "\t\t\t{\n",
       "\t\t\t\tvar element = document.getElementById('NetworKit_Overlay');\n",
       "\t\t\t\tif (element) {\n",
       "\t\t\t\t\telement.parentNode.removeChild(element);\n",
       "\t\t\t\t}\n",
       "\t\t\t\telement = document.createElement('div');\n",
       "\t\t\t\telement.innerHTML = '<div id=\"NetworKit_Overlay_Toolbar_Top\"><div class=\"button icon-close\" id=\"NetworKit_Overlay_Close\" /></div><div id=\"NetworKit_Overlay_Title\" /> <div id=\"NetworKit_Overlay_ImageContainer\"> <div id=\"NetworKit_Overlay_Image\" /> </div> <div id=\"NetworKit_Overlay_Toolbar_Bottom\"> <div class=\"button icon-previous\" onclick=\"NetworKit_overlayImageShift(-1)\" /> <div class=\"button icon-next\" onclick=\"NetworKit_overlayImageShift(1)\" /> <a id=\"NetworKit_Overlay_Toolbar_Bottom_Save\"><div class=\"button icon-save\" /></a> </div>';\n",
       "\t\t\t\telement.setAttribute('id', 'NetworKit_Overlay');\n",
       "\t\t\t\tdocument.body.appendChild(element);\n",
       "\t\t\t\tdocument.getElementById('NetworKit_Overlay_Close').onclick = function (e) {\n",
       "\t\t\t\t\tdocument.getElementById('NetworKit_Overlay').style.display = 'none';\n",
       "\t\t\t\t}\n",
       "\t\t\t}\n",
       "\t\t\n",
       "\t\t\t-->\n",
       "\t\t\t</script>\n",
       "\t\t"
      ]
     },
     "metadata": {},
     "output_type": "display_data"
    }
   ],
   "source": [
    "try:\n",
    "    import networkit as nk\n",
    "except:\n",
    "    ! conda install -y -c conda-forge networkit # pip does not install correctly"
   ]
  },
  {
   "cell_type": "markdown",
   "id": "4e7168ee-66ba-42da-8cac-f3bd776b8330",
   "metadata": {},
   "source": [
    "### NetworKit Nodes ###\n",
    "\n",
    "NetworKit  differs from NetworkX in how it assigns node labels.\n",
    "\n",
    "See: https://stackoverflow.com/questions/60285134/retrieving-original-node-names-in-networkit"
   ]
  },
  {
   "cell_type": "code",
   "execution_count": 14,
   "id": "09a9be87-c209-44c0-add3-9118f7c970f1",
   "metadata": {},
   "outputs": [
    {
     "data": {
      "text/plain": [
       "{1: 0, 2: 1, 3: 2, 4: 3, 5: 4, 6: 5, 7: 6, 8: 7, 9: 8, 0: 9}"
      ]
     },
     "execution_count": 14,
     "metadata": {},
     "output_type": "execute_result"
    }
   ],
   "source": [
    "# mapping node labels from networkX graph to networkit graph\n",
    "nxG = G                     # networkX Graph\n",
    "nkG = nk.nxadapter.nx2nk(nxG) # converted to networkit Graph\n",
    "\n",
    "# Get mapping from node ids in nxG to node ids in nkG\n",
    "idmap_x_to_k = dict((id, u) for (id, u) in zip(G.nodes(), range(G.number_of_nodes())))\n",
    "# mapping is networkX node: networkit node\n",
    "idmap_x_to_k"
   ]
  },
  {
   "cell_type": "code",
   "execution_count": 15,
   "id": "aba6febb-8880-426b-b182-e8fdbdd6de68",
   "metadata": {},
   "outputs": [
    {
     "data": {
      "text/plain": [
       "{0: 1, 1: 2, 2: 3, 3: 4, 4: 5, 5: 6, 6: 7, 7: 8, 8: 9, 9: 0}"
      ]
     },
     "execution_count": 15,
     "metadata": {},
     "output_type": "execute_result"
    }
   ],
   "source": [
    "# mapping node ids from networkit graph back to networkX \n",
    "idmap_k_to_x = {v:k for k,v in idmap_x_to_k.items()}\n",
    "idmap_k_to_x"
   ]
  },
  {
   "cell_type": "markdown",
   "id": "c35aca3c-2239-4e0b-a34f-d15508312655",
   "metadata": {},
   "source": [
    "### A possibly useful function to compute PageRanks with NetworKit ###"
   ]
  },
  {
   "cell_type": "markdown",
   "id": "aa515fe8-50d6-4390-a84e-6adc44f20efe",
   "metadata": {},
   "source": [
    "This function \n",
    "\n",
    "1. takes a NetworkX graph `G` and an `alpha` factor (default is `alpha=0.85`)\n",
    "2. converts the NetworkX graph `G` to a NetworKit graph `nkG`, \n",
    "3. maps the NetworkX node names to NetworKit node numbers,\n",
    "4. runs `nk.centrality.PageRank` on the converted graph (so fast!) with the provided `alpha`\n",
    "5. uses the `.ranking()` method to return a list of node, pagerank tuples, ranked by PageRank\n",
    "6. converts the NetworKit PageRank rank list to a NetworkX-style PageRank dictionary\n",
    "7. maps the NetworkKit node labels back to NetworkX node labels.\n",
    "\n",
    "I hope you find the function useful!"
   ]
  },
  {
   "cell_type": "code",
   "execution_count": 16,
   "id": "5f7d9fe4-5c54-4806-9233-6d12767eae82",
   "metadata": {},
   "outputs": [],
   "source": [
    "# import networkit as nk # uncomment this line if you haven't `imported networkit as nk`\n",
    "\n",
    "def nk_pagerank(G,alpha=0.85):\n",
    "    \n",
    "    # convert networkX graph to networkit\n",
    "    nkG = nk.nxadapter.nx2nk(G)\n",
    "    \n",
    "    # Get mapping from node ids in nxG to node ids in nkG\n",
    "    idmap_x_to_k = dict((id, u) for (id, u) in zip(G.nodes(), range(G.number_of_nodes())))\n",
    "    idmap_k_to_x = {v:k for k,v in idmap_x_to_k.items()}\n",
    "    \n",
    "    # initialize networkit pagerank\n",
    "    nk_pr = nk.centrality.PageRank(nkG, damp=alpha)\n",
    "    \n",
    "    # run networkit pagerank\n",
    "    nk_pr.run()\n",
    "    \n",
    "    # nk_pr.ranking() returns a list of tuples instead of a dictionary\n",
    "    # convert list of tuples and node labels into a dictionary for networkX\n",
    "    nx_pr = {idmap_k_to_x[n]:pr for n,pr in nk_pr.ranking()}\n",
    "    \n",
    "    return nx_pr"
   ]
  },
  {
   "cell_type": "code",
   "execution_count": 17,
   "id": "674ab7cb-468a-4395-823a-a80e4beec0dd",
   "metadata": {},
   "outputs": [
    {
     "data": {
      "text/plain": [
       "{0: 0.09616422864010413,\n",
       " 1: 0.08238341623579516,\n",
       " 2: 0.1189119074864757,\n",
       " 3: 0.11891190748647572,\n",
       " 4: 0.08288013213569626,\n",
       " 5: 0.15847012804269023,\n",
       " 6: 0.05586979832597884,\n",
       " 7: 0.08288013213569626,\n",
       " 8: 0.12066502418932559,\n",
       " 9: 0.0828633253217621}"
      ]
     },
     "execution_count": 17,
     "metadata": {},
     "output_type": "execute_result"
    }
   ],
   "source": [
    "# check node mappings from networkit to network X\n",
    "pr_nk = nk_pagerank(G, alpha = 0.85)\n",
    "{i:pr_nk[i] for i in range(len(pr_nk))}"
   ]
  },
  {
   "cell_type": "code",
   "execution_count": 18,
   "id": "5f234d02-b9fa-408c-aeda-b71a106607d8",
   "metadata": {},
   "outputs": [
    {
     "data": {
      "text/plain": [
       "{0: 0.09616465797334213,\n",
       " 1: 0.08238301608879246,\n",
       " 2: 0.11891246549898707,\n",
       " 3: 0.11891246549898707,\n",
       " 4: 0.08287983163527103,\n",
       " 5: 0.15846945385063035,\n",
       " 6: 0.05586956767829658,\n",
       " 7: 0.08287983163527103,\n",
       " 8: 0.12066530400065731,\n",
       " 9: 0.08286340613976471}"
      ]
     },
     "execution_count": 18,
     "metadata": {},
     "output_type": "execute_result"
    }
   ],
   "source": [
    "pr_nx = nx.pagerank(G)\n",
    "{i:pr_nx[i] for i in range(len(pr_nx))}"
   ]
  },
  {
   "cell_type": "code",
   "execution_count": 19,
   "id": "f01d05e1-4e2c-4822-b60a-41aefaa4c8e7",
   "metadata": {},
   "outputs": [
    {
     "data": {
      "text/plain": [
       "[0.1585,\n",
       " 0.1207,\n",
       " 0.1189,\n",
       " 0.1189,\n",
       " 0.0962,\n",
       " 0.0829,\n",
       " 0.0829,\n",
       " 0.0829,\n",
       " 0.0824,\n",
       " 0.0559]"
      ]
     },
     "execution_count": 19,
     "metadata": {},
     "output_type": "execute_result"
    }
   ],
   "source": [
    "sorted([round(v,4) for k,v in pr_nx.items()], reverse=True)"
   ]
  },
  {
   "cell_type": "code",
   "execution_count": 20,
   "id": "9b10368a-1800-4023-98f1-1a9f4ffeb988",
   "metadata": {},
   "outputs": [
    {
     "data": {
      "text/plain": [
       "[0.1585,\n",
       " 0.1207,\n",
       " 0.1189,\n",
       " 0.1189,\n",
       " 0.0962,\n",
       " 0.0829,\n",
       " 0.0829,\n",
       " 0.0829,\n",
       " 0.0824,\n",
       " 0.0559]"
      ]
     },
     "execution_count": 20,
     "metadata": {},
     "output_type": "execute_result"
    }
   ],
   "source": [
    "sorted([round(v,4) for k,v in pr_nk.items()], reverse=True)"
   ]
  },
  {
   "cell_type": "markdown",
   "id": "06778564-35b4-47d7-9f2b-0831827eef10",
   "metadata": {},
   "source": [
    "## Save a lot of time by using networkit AND saving pagerank files ##"
   ]
  },
  {
   "cell_type": "code",
   "execution_count": 21,
   "id": "124da1ff-d176-4270-9943-237d7bbaa8f7",
   "metadata": {},
   "outputs": [
    {
     "data": {
      "text/plain": [
       "{1: 0.08238301608879246,\n",
       " 2: 0.11891246549898707,\n",
       " 3: 0.11891246549898707,\n",
       " 4: 0.08287983163527103,\n",
       " 5: 0.15846945385063035,\n",
       " 6: 0.05586956767829658,\n",
       " 7: 0.08287983163527103,\n",
       " 8: 0.12066530400065731,\n",
       " 9: 0.08286340613976471,\n",
       " 0: 0.09616465797334213}"
      ]
     },
     "execution_count": 21,
     "metadata": {},
     "output_type": "execute_result"
    }
   ],
   "source": [
    "pr_file = 'my_pagerank.json'\n",
    "\n",
    "# look for a pagerank file\n",
    "try:\n",
    "    with open(pr_file, 'r') as f:\n",
    "        nx_pr_s = json.load(f)\n",
    "        # for some reason keys come back as strings\n",
    "        # make sure to convert to integers\n",
    "        nk_pr   = {int(n):pr for n,pr in nx_pr_s.items()}\n",
    "        \n",
    "# if there was no file, recalulate the pagerank        \n",
    "except:\n",
    "    \n",
    "    print(\"can't find file: \", pr_file)\n",
    "    print()\n",
    "    print(\"recalculating pagerank\")\n",
    "    print()\n",
    "\n",
    "    nk_pr = nk_pagerank(G)\n",
    "    \n",
    "    with open(pr_file, 'w') as f:\n",
    "        json.dump(nx_pr, f)\n",
    "\n",
    "nk_pr"
   ]
  },
  {
   "cell_type": "code",
   "execution_count": 22,
   "id": "b6a0f5b3-75e1-4bfb-917a-a053c82a7051",
   "metadata": {},
   "outputs": [
    {
     "data": {
      "text/plain": [
       "{0: 0.09616465797334213,\n",
       " 1: 0.08238301608879246,\n",
       " 2: 0.11891246549898707,\n",
       " 3: 0.11891246549898707,\n",
       " 4: 0.08287983163527103,\n",
       " 5: 0.15846945385063035,\n",
       " 6: 0.05586956767829658,\n",
       " 7: 0.08287983163527103,\n",
       " 8: 0.12066530400065731,\n",
       " 9: 0.08286340613976471}"
      ]
     },
     "execution_count": 22,
     "metadata": {},
     "output_type": "execute_result"
    }
   ],
   "source": [
    "# checking Graph conversion (node labels)\n",
    "# do the pageranks go with the correct node labels?\n",
    "{k:nk_pr[k] for k in range(len(nk_pr))}"
   ]
  },
  {
   "cell_type": "code",
   "execution_count": 23,
   "id": "eb23ed45-8af9-40ef-90bc-44029816bddd",
   "metadata": {},
   "outputs": [
    {
     "data": {
      "text/plain": [
       "{0: 0.09616465797334213,\n",
       " 1: 0.08238301608879246,\n",
       " 2: 0.11891246549898707,\n",
       " 3: 0.11891246549898707,\n",
       " 4: 0.08287983163527103,\n",
       " 5: 0.15846945385063035,\n",
       " 6: 0.05586956767829658,\n",
       " 7: 0.08287983163527103,\n",
       " 8: 0.12066530400065731,\n",
       " 9: 0.08286340613976471}"
      ]
     },
     "execution_count": 23,
     "metadata": {},
     "output_type": "execute_result"
    }
   ],
   "source": [
    "# checking Graph conversion (node labels)\n",
    "# do the pageranks go with the correct node labels?\n",
    "nx_pr = nx.pagerank(G)\n",
    "{k:nx_pr[k] for k in range(len(nx_pr))}"
   ]
  },
  {
   "cell_type": "code",
   "execution_count": 24,
   "id": "02e6c726-bab5-4fa1-9d67-0224a0c6f5dc",
   "metadata": {},
   "outputs": [
    {
     "data": {
      "text/plain": [
       "{6: 0.05586956767829658,\n",
       " 1: 0.08238301608879246,\n",
       " 9: 0.08286340613976471,\n",
       " 4: 0.08287983163527103,\n",
       " 7: 0.08287983163527103,\n",
       " 0: 0.09616465797334213,\n",
       " 2: 0.11891246549898707,\n",
       " 3: 0.11891246549898707,\n",
       " 8: 0.12066530400065731,\n",
       " 5: 0.15846945385063035}"
      ]
     },
     "execution_count": 24,
     "metadata": {},
     "output_type": "execute_result"
    }
   ],
   "source": [
    "# are the pagerank sort orders the same?\n",
    "value_sort_nx = sorted([(v,k) for k,v in nx_pr.items()])\n",
    "{k:v for v,k in value_sort_nx}"
   ]
  },
  {
   "cell_type": "code",
   "execution_count": 25,
   "id": "ec7e0139-9aff-49bc-8165-8b61420f6cae",
   "metadata": {},
   "outputs": [
    {
     "data": {
      "text/plain": [
       "{6: 0.05586956767829658,\n",
       " 1: 0.08238301608879246,\n",
       " 9: 0.08286340613976471,\n",
       " 4: 0.08287983163527103,\n",
       " 7: 0.08287983163527103,\n",
       " 0: 0.09616465797334213,\n",
       " 2: 0.11891246549898707,\n",
       " 3: 0.11891246549898707,\n",
       " 8: 0.12066530400065731,\n",
       " 5: 0.15846945385063035}"
      ]
     },
     "execution_count": 25,
     "metadata": {},
     "output_type": "execute_result"
    }
   ],
   "source": [
    "# are the pagerank sort orders the same?\n",
    "value_sort_nk = sorted([(v,k) for k,v in nk_pr.items()])\n",
    "{k:v for v,k in value_sort_nk}"
   ]
  },
  {
   "cell_type": "code",
   "execution_count": null,
   "id": "8c6a3da6-4fba-4e1d-9056-d177635204dc",
   "metadata": {},
   "outputs": [],
   "source": [
    "# are the nodes in the same order?\n",
    "# zip()\n",
    "nx_ascending = [node for value,node in value_sort_nx]\n",
    "nk_ascending = [node for value,node in value_sort_nk]\n",
    "list(zip(nx_ascending, nk_ascending))"
   ]
  },
  {
   "cell_type": "markdown",
   "id": "de6cbda6-d733-40f9-a0b9-d96b44a25bf6",
   "metadata": {},
   "source": [
    "## End ##\n",
    "___"
   ]
  }
 ],
 "metadata": {
  "kernelspec": {
   "display_name": "Python 3 (ipykernel)",
   "language": "python",
   "name": "python3"
  },
  "language_info": {
   "codemirror_mode": {
    "name": "ipython",
    "version": 3
   },
   "file_extension": ".py",
   "mimetype": "text/x-python",
   "name": "python",
   "nbconvert_exporter": "python",
   "pygments_lexer": "ipython3",
   "version": "3.8.12"
  }
 },
 "nbformat": 4,
 "nbformat_minor": 5
}
