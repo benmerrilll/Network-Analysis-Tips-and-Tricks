{
 "cells": [
  {
   "cell_type": "markdown",
   "id": "83a8090d-e84a-47a4-81ea-981709b1c3c3",
   "metadata": {
    "tags": []
   },
   "source": [
    "# 652 Week 4 Tips and Tricks #"
   ]
  },
  {
   "cell_type": "markdown",
   "id": "23384eb6-fd2a-45a0-9062-61c501e38a44",
   "metadata": {},
   "source": [
    "Jamie White \n",
    "\n",
    "Revision: [ F2021 20 September 2021 ]"
   ]
  },
  {
   "cell_type": "markdown",
   "id": "21ba389f-c78a-4aec-ba4e-5e9a2065d865",
   "metadata": {},
   "source": [
    "## Before starting your assignments... ##"
   ]
  },
  {
   "cell_type": "markdown",
   "id": "0deedf80-3516-4ecf-a306-7d62d53b0c9c",
   "metadata": {},
   "source": [
    "... make a clean copy of your notebook in case you have to start over.\n",
    "\n",
    "In Coursera:\n",
    "\n",
    "`File > Make a copy...`"
   ]
  },
  {
   "cell_type": "markdown",
   "id": "dba00e41-3369-49a6-a0a1-b1d1310b0951",
   "metadata": {},
   "source": [
    "## Remember to work through the Week 4 networkX tutorial ##"
   ]
  },
  {
   "cell_type": "markdown",
   "id": "d83d2d19-6087-4f6d-9a43-20786605480c",
   "metadata": {
    "jp-MarkdownHeadingCollapsed": true,
    "tags": []
   },
   "source": [
    "## <font color='red'>Warning! </font>\n",
    "\n",
    "<font color='red' size=2>Please **AVOID** using `community` and `modularity` as your variable names. These are imported as preserved names for networkx submodules. Changing their representations would result in autograder failuers.</font>"
   ]
  },
  {
   "cell_type": "markdown",
   "id": "1188d0b8-abef-43e3-850e-9a061ad57254",
   "metadata": {
    "jp-MarkdownHeadingCollapsed": true,
    "tags": []
   },
   "source": [
    "## <font color='green'>Advice </font>\n",
    "\n",
    "<font color='Green' size=2>You do not need to run the notebook Girvan-Newman.ipynb</font>\n",
    "\n",
    "There is a pickle file with the output in assets. Just load it as instructed."
   ]
  },
  {
   "cell_type": "markdown",
   "id": "b5d16188-f0da-45c2-b4c6-f4c3cef809c2",
   "metadata": {},
   "source": [
    "## Load some libraries to get started... ##"
   ]
  },
  {
   "cell_type": "code",
   "execution_count": 2,
   "id": "4dcb563f-e02b-476d-a292-1fca3f1c9a3b",
   "metadata": {},
   "outputs": [],
   "source": [
    "import networkx as nx\n",
    "import numpy as np\n",
    "import matplotlib.pyplot as plt\n",
    "from networkx.drawing.nx_pydot import graphviz_layout\n",
    "import ndlib.models.ModelConfig as mc\n",
    "import ndlib.models.epidemics as ep\n",
    "import operator\n",
    "import random"
   ]
  },
  {
   "cell_type": "code",
   "execution_count": 3,
   "id": "f8e6e195-6650-480e-ab29-19bc1f40e3c4",
   "metadata": {},
   "outputs": [],
   "source": [
    "import json\n",
    "# %matplotlib inline"
   ]
  },
  {
   "cell_type": "markdown",
   "id": "bb229302-8eb7-4439-b4cf-fa40b21f9df1",
   "metadata": {
    "tags": []
   },
   "source": [
    "## How are communities represented in networkX? ##\n",
    "\n",
    "In Assignment 4, a community (singular) is a set of node ID's.  The communities (plural) are contained in a list. Thus,"
   ]
  },
  {
   "cell_type": "code",
   "execution_count": 4,
   "id": "fc3122a3-dd9a-45a7-9386-d80c6183abe8",
   "metadata": {},
   "outputs": [],
   "source": [
    "# each community is a set of node ID's. sample_communities is a list of communities\n",
    "\n",
    "sample_communities = [\n",
    "\n",
    "{512, 513, 514, 515, 516, 517},\n",
    "{96, 97, 92, 93, 94, 95},\n",
    "{288, 289, 290, 285, 286, 287},\n",
    "{0, 1, 2, 3, 4, 5}\n",
    "]"
   ]
  },
  {
   "cell_type": "code",
   "execution_count": 5,
   "id": "3712a5ea-94a2-4485-94a2-91a4d628ed7d",
   "metadata": {},
   "outputs": [
    {
     "data": {
      "text/plain": [
       "list"
      ]
     },
     "execution_count": 5,
     "metadata": {},
     "output_type": "execute_result"
    }
   ],
   "source": [
    "type(sample_communities)"
   ]
  },
  {
   "cell_type": "code",
   "execution_count": 6,
   "id": "11e962f5-3dd1-44d3-8a49-6d8c8e3f735b",
   "metadata": {},
   "outputs": [
    {
     "data": {
      "text/plain": [
       "{512, 513, 514, 515, 516, 517}"
      ]
     },
     "execution_count": 6,
     "metadata": {},
     "output_type": "execute_result"
    }
   ],
   "source": [
    "a_community = sample_communities[0]\n",
    "a_community"
   ]
  },
  {
   "cell_type": "code",
   "execution_count": 7,
   "id": "b904d03d-26b4-49f2-a910-86161c226204",
   "metadata": {},
   "outputs": [
    {
     "data": {
      "text/plain": [
       "set"
      ]
     },
     "execution_count": 7,
     "metadata": {},
     "output_type": "execute_result"
    }
   ],
   "source": [
    "type(a_community)"
   ]
  },
  {
   "cell_type": "code",
   "execution_count": 8,
   "id": "15e73242-c766-48ab-8917-5e8fac22275e",
   "metadata": {},
   "outputs": [
    {
     "data": {
      "text/plain": [
       "{92, 93, 94, 95, 96, 97}"
      ]
     },
     "execution_count": 8,
     "metadata": {},
     "output_type": "execute_result"
    }
   ],
   "source": [
    "another_community =  sample_communities[1]\n",
    "another_community"
   ]
  },
  {
   "cell_type": "code",
   "execution_count": 9,
   "id": "53bc172d-08c2-4971-830b-a4551a93391c",
   "metadata": {},
   "outputs": [
    {
     "data": {
      "text/plain": [
       "set"
      ]
     },
     "execution_count": 9,
     "metadata": {},
     "output_type": "execute_result"
    }
   ],
   "source": [
    "type(another_community)"
   ]
  },
  {
   "cell_type": "markdown",
   "id": "28412ba3-a5fc-4a4e-9861-bd5784493037",
   "metadata": {
    "tags": []
   },
   "source": [
    "## Communities in the Map of Science network ##"
   ]
  },
  {
   "cell_type": "code",
   "execution_count": 10,
   "id": "b677a9a7-d207-45eb-9021-ef4950db5a6c",
   "metadata": {},
   "outputs": [],
   "source": [
    "G = nx.read_gml('assets/MapOfScience.gml', label='id')"
   ]
  },
  {
   "cell_type": "markdown",
   "id": "17af0f2c-e305-44a1-8eb6-1559a2bdf224",
   "metadata": {},
   "source": [
    "### Classes and communities ###\n",
    "\n",
    "*If the different domains of science are communities, what are they?*\n",
    "\n",
    "Below is a sample of the data for each node (here, nodes 0 and 1). Each node is represented as a tuple with a node label and a dictionary `(0,{...})`.  \n",
    "\n",
    "In the dictionary for each node, the value for the 'Class' key indicates a domain of science. For Nodes 0 and 1, the domain of science is 'Applied', so they are part of the 'Applied' network community. The 'Class' of the community to which Nodes 0 and 1 belong is also 'Applied.'"
   ]
  },
  {
   "cell_type": "code",
   "execution_count": 11,
   "id": "5ece46ee-d461-4032-968e-b9b50cc9d2f1",
   "metadata": {},
   "outputs": [
    {
     "data": {
      "text/plain": [
       "[(0,\n",
       "  {'label': '0',\n",
       "   'name': 'Accounting',\n",
       "   'Class': 'Applied',\n",
       "   'WikipediaUrl': 'https://en.wikipedia.org/wiki/Accounting'}),\n",
       " (1,\n",
       "  {'label': '1',\n",
       "   'name': 'Aerospace engineering',\n",
       "   'Class': 'Applied',\n",
       "   'WikipediaUrl': 'https://en.wikipedia.org/wiki/Aerospace_engineering'})]"
      ]
     },
     "execution_count": 11,
     "metadata": {},
     "output_type": "execute_result"
    }
   ],
   "source": [
    "# recall from the assignement\n",
    "list(G.nodes(data=True))[0:2]"
   ]
  },
  {
   "cell_type": "code",
   "execution_count": 12,
   "id": "6546407c-67cf-44c2-80e7-ab6e48242f44",
   "metadata": {},
   "outputs": [
    {
     "data": {
      "text/plain": [
       "{'Applied', 'Formal', 'Natural', 'Social'}"
      ]
     },
     "execution_count": 12,
     "metadata": {},
     "output_type": "execute_result"
    }
   ],
   "source": [
    "# what are the classes?\n",
    "list_of_communities = set([d['Class'] for n,d in G.nodes(data=True)]) # set of unique community labels\n",
    "list_of_communities"
   ]
  },
  {
   "cell_type": "code",
   "execution_count": 13,
   "id": "36a1814d-3dd8-43d9-80f3-aa5e7c4da7a1",
   "metadata": {},
   "outputs": [
    {
     "data": {
      "text/plain": [
       "4"
      ]
     },
     "execution_count": 13,
     "metadata": {},
     "output_type": "execute_result"
    }
   ],
   "source": [
    "# classes are domains of science, let's make a list\n",
    "domains = list(list_of_communities)\n",
    "len(domains)"
   ]
  },
  {
   "cell_type": "code",
   "execution_count": 14,
   "id": "a196b237-562b-4bbf-b16e-3723e1306e06",
   "metadata": {},
   "outputs": [
    {
     "data": {
      "text/plain": [
       "2"
      ]
     },
     "execution_count": 14,
     "metadata": {},
     "output_type": "execute_result"
    }
   ],
   "source": [
    "# let's grab 2 domains (communities)\n",
    "domains = list(list_of_communities)[:2]\n",
    "len(domains)"
   ]
  },
  {
   "cell_type": "code",
   "execution_count": 15,
   "id": "cb8f9583-37da-439b-9e8f-5e0e601eb941",
   "metadata": {},
   "outputs": [
    {
     "data": {
      "text/plain": [
       "['Natural', 'Formal']"
      ]
     },
     "execution_count": 15,
     "metadata": {},
     "output_type": "execute_result"
    }
   ],
   "source": [
    "domains"
   ]
  },
  {
   "cell_type": "code",
   "execution_count": 16,
   "id": "4491ba90-9e10-459f-ab85-506a7c90e71b",
   "metadata": {},
   "outputs": [],
   "source": [
    "# find the nodes in those domains (communities)\n",
    "communities  = [set([n for n,d in list(G.nodes(data=True)) if (d['Class']) == domain]) for domain in domains]"
   ]
  },
  {
   "cell_type": "code",
   "execution_count": 17,
   "id": "3accfd9a-1a65-4072-b83a-d2f35e73d7da",
   "metadata": {},
   "outputs": [
    {
     "data": {
      "text/plain": [
       "(list, 2, set, 168, [285, 286, 287, 288, 289, 290, 291, 292, 293, 294])"
      ]
     },
     "execution_count": 17,
     "metadata": {},
     "output_type": "execute_result"
    }
   ],
   "source": [
    "# recall from above that communties are \n",
    "a_community  = communities[0]\n",
    "\n",
    "# let's have a look\n",
    "type(communities), len(communities), type(a_community), len(a_community), list(a_community)[:10]"
   ]
  },
  {
   "cell_type": "markdown",
   "id": "2b21f9f5-62d2-4704-ad7f-ed3c51cd4d83",
   "metadata": {},
   "source": [
    "## Partitions ###\n",
    "\n",
    "Hint: Based on the Week 4 networkX tutorial."
   ]
  },
  {
   "cell_type": "code",
   "execution_count": 17,
   "id": "53dba49d-78fe-4c14-8b14-e0ed6cc10e36",
   "metadata": {},
   "outputs": [
    {
     "data": {
      "image/png": "[encoded data removed]",
      "text/plain": [
       "<Figure size 360x360 with 1 Axes>"
      ]
     },
     "metadata": {},
     "output_type": "display_data"
    }
   ],
   "source": [
    "sizes = [50, 40, 30]\n",
    "probs = [[0.25, 0.04, 0.03], [0.04, 0.3, 0.05], [0.03, 0.05, 0.40]]\n",
    "G = nx.stochastic_block_model(sizes, probs, seed=0)\n",
    "pos = nx.spring_layout(G)\n",
    "plt.figure(figsize=(5,5))\n",
    "nx.draw_networkx(G, pos=pos, with_labels=False, \n",
    "                 node_color='blue', node_size=10,\n",
    "                edge_color='#eeeeee', width=1)"
   ]
  },
  {
   "cell_type": "markdown",
   "id": "a9dcb8a4-fae2-4699-b748-d9d84bb443da",
   "metadata": {},
   "source": [
    "### What is this partition thing? ###\n",
    "\n",
    "The partitioning algorithms return an iterator over tuples of sets of nodes in `G`. Each set of nodes is a community, each tuple is a sequence of communities at a particular level of the algorithm.\n",
    "\n",
    "☞ \"at a particular level of the algorithm\" means the number of communities it finds. "
   ]
  },
  {
   "cell_type": "code",
   "execution_count": 18,
   "id": "9f84ad2d-1988-4db5-90d3-5f50401ecfc7",
   "metadata": {},
   "outputs": [],
   "source": [
    "# uncomment the line below to have a look\n",
    "\n",
    "# nx.algorithms.community.centrality.girvan_newman?"
   ]
  },
  {
   "cell_type": "code",
   "execution_count": 19,
   "id": "4f591b2d-bd8b-4af9-955c-0ecf55370973",
   "metadata": {},
   "outputs": [],
   "source": [
    "# use girvan_newman to generate partitions\n",
    "partitions = nx.algorithms.community.centrality.girvan_newman(G)"
   ]
  },
  {
   "cell_type": "code",
   "execution_count": 20,
   "id": "5b3cb995-01b0-4187-accf-253644341377",
   "metadata": {},
   "outputs": [],
   "source": [
    "# finding all the ways the algorithm split the graph\n",
    "# partitions is a generator, so it is consumed when you run this cell.\n",
    "partition_splits = list(partitions)"
   ]
  },
  {
   "cell_type": "code",
   "execution_count": 21,
   "id": "fc36176d-041c-415d-b70e-1e7b8bee1680",
   "metadata": {},
   "outputs": [
    {
     "data": {
      "text/plain": [
       "119"
      ]
     },
     "execution_count": 21,
     "metadata": {},
     "output_type": "execute_result"
    }
   ],
   "source": [
    "# How many possible ways did the algorithm split the graph into communities?\n",
    "len(partition_splits)"
   ]
  },
  {
   "cell_type": "code",
   "execution_count": 22,
   "id": "6886c75a-10b5-44ae-8434-b3bb8d93d1c5",
   "metadata": {},
   "outputs": [],
   "source": [
    "# the partitions generator is consumed, so...\n",
    "empty_generator = list(partitions)"
   ]
  },
  {
   "cell_type": "code",
   "execution_count": 23,
   "id": "892f35b1-5a5e-4d15-8c24-4b38c6412888",
   "metadata": {},
   "outputs": [
    {
     "data": {
      "text/plain": [
       "0"
      ]
     },
     "execution_count": 23,
     "metadata": {},
     "output_type": "execute_result"
    }
   ],
   "source": [
    "# the list is not generated\n",
    "len(empty_generator)"
   ]
  },
  {
   "cell_type": "code",
   "execution_count": 24,
   "id": "7c223c5b-e7b3-4708-b861-e632cfbfbd60",
   "metadata": {},
   "outputs": [
    {
     "data": {
      "text/plain": [
       "2"
      ]
     },
     "execution_count": 24,
     "metadata": {},
     "output_type": "execute_result"
    }
   ],
   "source": [
    "# find out how many communities were in the first split?\n",
    "first_split = partition_splits[0]\n",
    "len(first_split)"
   ]
  },
  {
   "cell_type": "code",
   "execution_count": 25,
   "id": "d9f754fa-bcaa-419d-9027-1dce0d431504",
   "metadata": {},
   "outputs": [
    {
     "data": {
      "text/plain": [
       "[0, 1, 2, 3, 4, 5, 6, 7, 8, 9]"
      ]
     },
     "execution_count": 25,
     "metadata": {},
     "output_type": "execute_result"
    }
   ],
   "source": [
    "# recall each community is a set of nodes. \n",
    "# Convert the set to a list to look at 10 nodes\n",
    "list(first_split[0])[:10]"
   ]
  },
  {
   "cell_type": "code",
   "execution_count": 26,
   "id": "b6b12089-3755-4391-9367-a6dc7e87d0b6",
   "metadata": {},
   "outputs": [
    {
     "data": {
      "text/plain": [
       "50"
      ]
     },
     "execution_count": 26,
     "metadata": {},
     "output_type": "execute_result"
    }
   ],
   "source": [
    "# how many nodes were in the first community of the first split?\n",
    "first_split_community_1 = first_split[0]\n",
    "len(first_split_community_1)"
   ]
  },
  {
   "cell_type": "code",
   "execution_count": 27,
   "id": "901640cf-7bb7-4ca4-ba78-31c836e6fdf8",
   "metadata": {},
   "outputs": [
    {
     "data": {
      "text/plain": [
       "70"
      ]
     },
     "execution_count": 27,
     "metadata": {},
     "output_type": "execute_result"
    }
   ],
   "source": [
    "# how many nodes were in the second community of the second split?\n",
    "first_split_community_2 = first_split[1]\n",
    "len(first_split_community_2)"
   ]
  },
  {
   "cell_type": "code",
   "execution_count": 28,
   "id": "e2215167-2bb1-4a25-ada5-c2233d582759",
   "metadata": {},
   "outputs": [
    {
     "data": {
      "text/plain": [
       "False"
      ]
     },
     "execution_count": 28,
     "metadata": {},
     "output_type": "execute_result"
    }
   ],
   "source": [
    "# testing if node any nodes in  community_1 are in community_2\n",
    "first_split_community_1 in first_split_community_2"
   ]
  },
  {
   "cell_type": "code",
   "execution_count": 29,
   "id": "e5b7bda2-242a-436d-8bcf-bc655807f016",
   "metadata": {},
   "outputs": [
    {
     "data": {
      "text/plain": [
       "3"
      ]
     },
     "execution_count": 29,
     "metadata": {},
     "output_type": "execute_result"
    }
   ],
   "source": [
    "# let's look at the second split\n",
    "second_split = partition_splits[1]\n",
    "# it looks like there are three communities in the second split\n",
    "len(second_split)"
   ]
  },
  {
   "cell_type": "code",
   "execution_count": 30,
   "id": "8893bf52-ab35-40ed-bc45-5a38e56940c4",
   "metadata": {},
   "outputs": [
    {
     "data": {
      "text/plain": [
       "(50, 40, 30)"
      ]
     },
     "execution_count": 30,
     "metadata": {},
     "output_type": "execute_result"
    }
   ],
   "source": [
    "# let's assign the communities to variables  \n",
    "second_split_community_1 = second_split[0]\n",
    "second_split_community_2 = second_split[1]\n",
    "second_split_community_3 = second_split[2]\n",
    "\n",
    "# and see how big they are\n",
    "len(second_split_community_1),len(second_split_community_2),len(second_split_community_3)"
   ]
  },
  {
   "cell_type": "markdown",
   "id": "fc3a8495-34f1-4073-887b-cab808696f22",
   "metadata": {
    "tags": []
   },
   "source": [
    "### Testing or setting node properties based on community membership ###\n",
    "\n",
    "The tutorial sets color for a plot by community, but you could set other properites, or you could test if the node meets some condition.\n",
    "\n",
    "It might be useful to break down the steps for 3 communities"
   ]
  },
  {
   "cell_type": "code",
   "execution_count": 31,
   "id": "d6720421-c4a1-45ef-98a4-9d833a92a3e1",
   "metadata": {},
   "outputs": [],
   "source": [
    "# pick some colors\n",
    "color_list = ['green', 'red', 'blue', 'black']\n",
    "\n",
    "# list of nodes without colors\n",
    "node_color_list = [i for i in G.nodes]\n",
    "\n",
    "# iterate through the nodes. i is a counter, n is the node ID\n",
    "for i, n in enumerate(node_color_list):\n",
    "    # if node is in the first community from the second split,\n",
    "    # color it green\n",
    "    if n in second_split_community_1:        \n",
    "        node_color_list[i] = color_list[0]\n",
    "        \n",
    "    # if node is in the second community from the second split\n",
    "    # color it red\n",
    "    elif n in second_split_community_2:\n",
    "        node_color_list[i] = color_list[1]\n",
    "        \n",
    "    # if node is in the third community from the second split\n",
    "    # color it red\n",
    "    elif n in second_split_community_3:\n",
    "        node_color_list[i] = color_list[2]\n",
    "                \n",
    "    # otherwise color it grey\n",
    "    else:\n",
    "        node_color_list[i] = color_list[3]"
   ]
  },
  {
   "cell_type": "code",
   "execution_count": 32,
   "id": "3e8b76ad-ec0c-4c4d-b6fa-144e6d039360",
   "metadata": {},
   "outputs": [
    {
     "data": {
      "image/png": "[encoded data removed]",
      "text/plain": [
       "<Figure size 360x360 with 1 Axes>"
      ]
     },
     "metadata": {},
     "output_type": "display_data"
    }
   ],
   "source": [
    "#see how we did\n",
    "\n",
    "plt.figure(figsize=(5,5))\n",
    "nx.draw_networkx(G, pos=pos, with_labels=False, \n",
    "                 node_color=node_color_list, node_size=10,\n",
    "                edge_color='#eeeeee', width=1)"
   ]
  },
  {
   "cell_type": "markdown",
   "id": "d013daa6-ace6-4d78-a7ac-8ede062694f8",
   "metadata": {},
   "source": [
    "#### Conclusion ####\n",
    "\n",
    "Because there are few black nodes (I don't see any), and the three communities look separated, the second partition probably did a good job. \n",
    "\n",
    "The different metrics in Assignment 4 will quantitate the separation:\n",
    "\n",
    "```\n",
    "mod  = nx.community.modularity( G, nodes_by_domain                ) # modularity\n",
    "cov  = nx.community.coverage(   G, nodes_by_domain                ) # coverage\n",
    "perf = nx.community.performance(G, nodes_by_domain                ) # performance\n",
    "den  = avg_measure(G, nodes_by_domain, density_one_community      ) # density\n",
    "sep  = avg_measure(G, nodes_by_domain, separability_one_community ) # separability\n",
    "\n",
    "```"
   ]
  },
  {
   "cell_type": "markdown",
   "id": "16d1dc04-5abc-42ad-9247-6858438b23f5",
   "metadata": {},
   "source": [
    "## Good luck on Assignment 4! ##"
   ]
  }
 ],
 "metadata": {
  "kernelspec": {
   "display_name": "Python 3 (ipykernel)",
   "language": "python",
   "name": "python3"
  },
  "language_info": {
   "codemirror_mode": {
    "name": "ipython",
    "version": 3
   },
   "file_extension": ".py",
   "mimetype": "text/x-python",
   "name": "python",
   "nbconvert_exporter": "python",
   "pygments_lexer": "ipython3",
   "version": "3.8.10"
  }
 },
 "nbformat": 4,
 "nbformat_minor": 5
}
